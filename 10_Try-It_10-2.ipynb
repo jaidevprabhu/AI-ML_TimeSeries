{
 "cells": [
  {
   "cell_type": "markdown",
   "id": "8d5d7665-3ef2-4ed5-86a8-c32d1d5e7c3a",
   "metadata": {},
   "source": [
    "# Problem Statement\n",
    "\n",
    "You have now learned to decompose a time series into **seasonal** and **trend** components and to use time series to forecast into the future using `statsmodels`. In this activity, your goal is to identify a new (to you) time series dataset and build a forecast using a seasonal and trend additive or multiplicative model using statsmodels."
   ]
  },
  {
   "cell_type": "markdown",
   "id": "ac6d945f-184d-457d-8fce-19676cd85399",
   "metadata": {},
   "source": [
    "Summarize your findings in an executive brief that explores the following:\n",
    "\n",
    "1. **Data description**: Provide a high-level overview of your data and its timeframe along with general information on your dataset\n",
    "2. **Forecast**: Give a description of the forecast. Describe the period that was projected and what the forecast implies about your data. Be sure to include presentation-ready plots with appropriate labels and titles.\n",
    "3. **Uncertainty**: Discuss the evaluation of your model on testing data, and explore the residuals. Discuss the consequence of this error for your model and forecasts. Is there still structure to uncover?"
   ]
  },
  {
   "cell_type": "code",
   "execution_count": 3,
   "id": "ca6d3d35-4ac6-493e-9be9-8253589dac61",
   "metadata": {},
   "outputs": [],
   "source": [
    "import numpy as np\n",
    "import pandas as pd\n",
    "import matplotlib.pyplot as plt\n",
    "from statsmodels.tsa.seasonal import _extrapolate_trend\n",
    "from statsmodels.tsa.filters.filtertools import convolution_filter\n",
    "import statsmodels.graphics.tsaplots as tsaplots\n",
    "from statsmodels.graphics.tsaplots import plot_acf, plot_pacf\n",
    "import statsmodels.api as sm\n",
    "from statsmodels.tsa.stattools import adfuller\n",
    "\n",
    "from statsmodels.tsa.seasonal import seasonal_decompose, STL\n",
    "from statsmodels.tsa.forecasting.stl import STLForecast\n",
    "from statsmodels.tsa.arima.model import ARIMA\n",
    "from statsmodels.tsa.statespace.sarimax import SARIMAX\n",
    "from sklearn.metrics import mean_absolute_error, mean_squared_error\n",
    "\n",
    "\n",
    "import warnings\n",
    "warnings.simplefilter(action='ignore', category=FutureWarning)"
   ]
  },
  {
   "cell_type": "markdown",
   "id": "21a3937d-6f84-4765-b9c1-1f386034ac00",
   "metadata": {},
   "source": [
    "## Dataset\n",
    "\n",
    "Air Quality data for a certain town in India, data collected by local state givernment collution control board\n",
    "\n",
    "https://www.kaggle.com/datasets/abhisheksjha/time-series-air-quality-data-of-india-2010-2023"
   ]
  },
  {
   "cell_type": "code",
   "execution_count": 5,
   "id": "5115edca-f7e3-4734-8395-52679aa2ef68",
   "metadata": {},
   "outputs": [],
   "source": [
    "df = pd.read_csv('data/AP001.csv.zip', compression = 'zip')"
   ]
  },
  {
   "cell_type": "code",
   "execution_count": 6,
   "id": "e3707247-9a98-4730-b469-026b89e09bb5",
   "metadata": {},
   "outputs": [
    {
     "name": "stdout",
     "output_type": "stream",
     "text": [
      "<class 'pandas.core.frame.DataFrame'>\n",
      "RangeIndex: 59150 entries, 0 to 59149\n",
      "Data columns (total 23 columns):\n",
      " #   Column           Non-Null Count  Dtype  \n",
      "---  ------           --------------  -----  \n",
      " 0   From Date        59150 non-null  object \n",
      " 1   To Date          59150 non-null  object \n",
      " 2   PM2.5 (ug/m3)    54323 non-null  float64\n",
      " 3   PM10 (ug/m3)     54450 non-null  float64\n",
      " 4   NO (ug/m3)       55153 non-null  float64\n",
      " 5   NO2 (ug/m3)      55100 non-null  float64\n",
      " 6   NOx (ppb)        55315 non-null  float64\n",
      " 7   NH3 (ug/m3)      53564 non-null  float64\n",
      " 8   SO2 (ug/m3)      54285 non-null  float64\n",
      " 9   CO (mg/m3)       54673 non-null  float64\n",
      " 10  Ozone (ug/m3)    54567 non-null  float64\n",
      " 11  Benzene (ug/m3)  55213 non-null  float64\n",
      " 12  Toluene (ug/m3)  55213 non-null  float64\n",
      " 13  Temp (degree C)  55113 non-null  float64\n",
      " 14  RH (%)           55281 non-null  float64\n",
      " 15  WS (m/s)         55299 non-null  float64\n",
      " 16  WD (deg)         54656 non-null  float64\n",
      " 17  SR (W/mt2)       54589 non-null  float64\n",
      " 18  BP (mmHg)        1201 non-null   float64\n",
      " 19  VWS (m/s)        55341 non-null  float64\n",
      " 20  Xylene (ug/m3)   55200 non-null  float64\n",
      " 21  RF (mm)          55285 non-null  float64\n",
      " 22  AT (degree C)    55087 non-null  float64\n",
      "dtypes: float64(21), object(2)\n",
      "memory usage: 10.4+ MB\n"
     ]
    }
   ],
   "source": [
    "df.info()"
   ]
  },
  {
   "cell_type": "code",
   "execution_count": 7,
   "id": "f137dac8-4141-4c31-afaf-141fd3006cee",
   "metadata": {},
   "outputs": [
    {
     "data": {
      "text/html": [
       "<div>\n",
       "<style scoped>\n",
       "    .dataframe tbody tr th:only-of-type {\n",
       "        vertical-align: middle;\n",
       "    }\n",
       "\n",
       "    .dataframe tbody tr th {\n",
       "        vertical-align: top;\n",
       "    }\n",
       "\n",
       "    .dataframe thead th {\n",
       "        text-align: right;\n",
       "    }\n",
       "</style>\n",
       "<table border=\"1\" class=\"dataframe\">\n",
       "  <thead>\n",
       "    <tr style=\"text-align: right;\">\n",
       "      <th></th>\n",
       "      <th>PM2.5 (ug/m3)</th>\n",
       "      <th>PM10 (ug/m3)</th>\n",
       "      <th>NO (ug/m3)</th>\n",
       "      <th>NO2 (ug/m3)</th>\n",
       "      <th>NOx (ppb)</th>\n",
       "      <th>NH3 (ug/m3)</th>\n",
       "      <th>SO2 (ug/m3)</th>\n",
       "      <th>CO (mg/m3)</th>\n",
       "      <th>Ozone (ug/m3)</th>\n",
       "      <th>Benzene (ug/m3)</th>\n",
       "      <th>...</th>\n",
       "      <th>Temp (degree C)</th>\n",
       "      <th>RH (%)</th>\n",
       "      <th>WS (m/s)</th>\n",
       "      <th>WD (deg)</th>\n",
       "      <th>SR (W/mt2)</th>\n",
       "      <th>BP (mmHg)</th>\n",
       "      <th>VWS (m/s)</th>\n",
       "      <th>Xylene (ug/m3)</th>\n",
       "      <th>RF (mm)</th>\n",
       "      <th>AT (degree C)</th>\n",
       "    </tr>\n",
       "  </thead>\n",
       "  <tbody>\n",
       "    <tr>\n",
       "      <th>count</th>\n",
       "      <td>54323.000000</td>\n",
       "      <td>54450.000000</td>\n",
       "      <td>55153.000000</td>\n",
       "      <td>55100.000000</td>\n",
       "      <td>55315.000000</td>\n",
       "      <td>53564.000000</td>\n",
       "      <td>54285.000000</td>\n",
       "      <td>54673.000000</td>\n",
       "      <td>54567.000000</td>\n",
       "      <td>55213.000000</td>\n",
       "      <td>...</td>\n",
       "      <td>55113.000000</td>\n",
       "      <td>55281.000000</td>\n",
       "      <td>55299.000000</td>\n",
       "      <td>54656.000000</td>\n",
       "      <td>54589.000000</td>\n",
       "      <td>1201.000000</td>\n",
       "      <td>55341.000000</td>\n",
       "      <td>55200.000000</td>\n",
       "      <td>55285.000000</td>\n",
       "      <td>55087.000000</td>\n",
       "    </tr>\n",
       "    <tr>\n",
       "      <th>mean</th>\n",
       "      <td>29.718423</td>\n",
       "      <td>58.531252</td>\n",
       "      <td>13.077963</td>\n",
       "      <td>39.195409</td>\n",
       "      <td>31.171453</td>\n",
       "      <td>10.057892</td>\n",
       "      <td>5.782241</td>\n",
       "      <td>0.634884</td>\n",
       "      <td>28.681448</td>\n",
       "      <td>0.813874</td>\n",
       "      <td>...</td>\n",
       "      <td>30.296565</td>\n",
       "      <td>71.962430</td>\n",
       "      <td>1.170445</td>\n",
       "      <td>180.160190</td>\n",
       "      <td>72.830661</td>\n",
       "      <td>755.713988</td>\n",
       "      <td>-0.015668</td>\n",
       "      <td>0.316406</td>\n",
       "      <td>0.052524</td>\n",
       "      <td>22.279584</td>\n",
       "    </tr>\n",
       "    <tr>\n",
       "      <th>std</th>\n",
       "      <td>21.365617</td>\n",
       "      <td>32.388101</td>\n",
       "      <td>16.124784</td>\n",
       "      <td>30.716953</td>\n",
       "      <td>25.048555</td>\n",
       "      <td>5.949501</td>\n",
       "      <td>4.538823</td>\n",
       "      <td>0.850052</td>\n",
       "      <td>19.189147</td>\n",
       "      <td>1.398240</td>\n",
       "      <td>...</td>\n",
       "      <td>2.885504</td>\n",
       "      <td>13.575538</td>\n",
       "      <td>0.719358</td>\n",
       "      <td>74.972401</td>\n",
       "      <td>131.376023</td>\n",
       "      <td>14.906888</td>\n",
       "      <td>0.165063</td>\n",
       "      <td>1.594764</td>\n",
       "      <td>0.441987</td>\n",
       "      <td>3.006088</td>\n",
       "    </tr>\n",
       "    <tr>\n",
       "      <th>min</th>\n",
       "      <td>0.250000</td>\n",
       "      <td>1.000000</td>\n",
       "      <td>0.100000</td>\n",
       "      <td>0.100000</td>\n",
       "      <td>0.000000</td>\n",
       "      <td>0.100000</td>\n",
       "      <td>0.030000</td>\n",
       "      <td>0.000000</td>\n",
       "      <td>0.070000</td>\n",
       "      <td>0.000000</td>\n",
       "      <td>...</td>\n",
       "      <td>7.300000</td>\n",
       "      <td>15.250000</td>\n",
       "      <td>0.080000</td>\n",
       "      <td>1.000000</td>\n",
       "      <td>0.000000</td>\n",
       "      <td>725.000000</td>\n",
       "      <td>-17.600000</td>\n",
       "      <td>0.000000</td>\n",
       "      <td>0.000000</td>\n",
       "      <td>4.680000</td>\n",
       "    </tr>\n",
       "    <tr>\n",
       "      <th>25%</th>\n",
       "      <td>13.250000</td>\n",
       "      <td>34.000000</td>\n",
       "      <td>3.800000</td>\n",
       "      <td>17.400000</td>\n",
       "      <td>13.780000</td>\n",
       "      <td>6.200000</td>\n",
       "      <td>3.650000</td>\n",
       "      <td>0.350000</td>\n",
       "      <td>16.370000</td>\n",
       "      <td>0.330000</td>\n",
       "      <td>...</td>\n",
       "      <td>28.770000</td>\n",
       "      <td>62.500000</td>\n",
       "      <td>0.600000</td>\n",
       "      <td>123.750000</td>\n",
       "      <td>3.000000</td>\n",
       "      <td>751.500000</td>\n",
       "      <td>-0.100000</td>\n",
       "      <td>0.030000</td>\n",
       "      <td>0.000000</td>\n",
       "      <td>20.200000</td>\n",
       "    </tr>\n",
       "    <tr>\n",
       "      <th>50%</th>\n",
       "      <td>24.000000</td>\n",
       "      <td>53.500000</td>\n",
       "      <td>8.100000</td>\n",
       "      <td>30.650000</td>\n",
       "      <td>24.880000</td>\n",
       "      <td>8.420000</td>\n",
       "      <td>5.150000</td>\n",
       "      <td>0.570000</td>\n",
       "      <td>22.380000</td>\n",
       "      <td>0.600000</td>\n",
       "      <td>...</td>\n",
       "      <td>29.880000</td>\n",
       "      <td>73.750000</td>\n",
       "      <td>1.050000</td>\n",
       "      <td>183.500000</td>\n",
       "      <td>8.000000</td>\n",
       "      <td>755.250000</td>\n",
       "      <td>-0.030000</td>\n",
       "      <td>0.100000</td>\n",
       "      <td>0.000000</td>\n",
       "      <td>22.050000</td>\n",
       "    </tr>\n",
       "    <tr>\n",
       "      <th>75%</th>\n",
       "      <td>42.500000</td>\n",
       "      <td>78.500000</td>\n",
       "      <td>16.170000</td>\n",
       "      <td>52.950000</td>\n",
       "      <td>41.150000</td>\n",
       "      <td>12.200000</td>\n",
       "      <td>6.970000</td>\n",
       "      <td>0.790000</td>\n",
       "      <td>36.000000</td>\n",
       "      <td>1.100000</td>\n",
       "      <td>...</td>\n",
       "      <td>31.350000</td>\n",
       "      <td>84.000000</td>\n",
       "      <td>1.600000</td>\n",
       "      <td>235.250000</td>\n",
       "      <td>71.000000</td>\n",
       "      <td>758.000000</td>\n",
       "      <td>0.030000</td>\n",
       "      <td>0.250000</td>\n",
       "      <td>0.000000</td>\n",
       "      <td>24.250000</td>\n",
       "    </tr>\n",
       "    <tr>\n",
       "      <th>max</th>\n",
       "      <td>449.500000</td>\n",
       "      <td>929.000000</td>\n",
       "      <td>288.170000</td>\n",
       "      <td>313.650000</td>\n",
       "      <td>364.800000</td>\n",
       "      <td>195.200000</td>\n",
       "      <td>199.770000</td>\n",
       "      <td>41.100000</td>\n",
       "      <td>199.700000</td>\n",
       "      <td>118.520000</td>\n",
       "      <td>...</td>\n",
       "      <td>59.900000</td>\n",
       "      <td>92.330000</td>\n",
       "      <td>34.850000</td>\n",
       "      <td>360.000000</td>\n",
       "      <td>956.000000</td>\n",
       "      <td>1050.000000</td>\n",
       "      <td>1.700000</td>\n",
       "      <td>127.850000</td>\n",
       "      <td>30.000000</td>\n",
       "      <td>35.350000</td>\n",
       "    </tr>\n",
       "  </tbody>\n",
       "</table>\n",
       "<p>8 rows × 21 columns</p>\n",
       "</div>"
      ],
      "text/plain": [
       "       PM2.5 (ug/m3)  PM10 (ug/m3)    NO (ug/m3)   NO2 (ug/m3)     NOx (ppb)  \\\n",
       "count   54323.000000  54450.000000  55153.000000  55100.000000  55315.000000   \n",
       "mean       29.718423     58.531252     13.077963     39.195409     31.171453   \n",
       "std        21.365617     32.388101     16.124784     30.716953     25.048555   \n",
       "min         0.250000      1.000000      0.100000      0.100000      0.000000   \n",
       "25%        13.250000     34.000000      3.800000     17.400000     13.780000   \n",
       "50%        24.000000     53.500000      8.100000     30.650000     24.880000   \n",
       "75%        42.500000     78.500000     16.170000     52.950000     41.150000   \n",
       "max       449.500000    929.000000    288.170000    313.650000    364.800000   \n",
       "\n",
       "        NH3 (ug/m3)   SO2 (ug/m3)    CO (mg/m3)  Ozone (ug/m3)  \\\n",
       "count  53564.000000  54285.000000  54673.000000   54567.000000   \n",
       "mean      10.057892      5.782241      0.634884      28.681448   \n",
       "std        5.949501      4.538823      0.850052      19.189147   \n",
       "min        0.100000      0.030000      0.000000       0.070000   \n",
       "25%        6.200000      3.650000      0.350000      16.370000   \n",
       "50%        8.420000      5.150000      0.570000      22.380000   \n",
       "75%       12.200000      6.970000      0.790000      36.000000   \n",
       "max      195.200000    199.770000     41.100000     199.700000   \n",
       "\n",
       "       Benzene (ug/m3)  ...  Temp (degree C)        RH (%)      WS (m/s)  \\\n",
       "count     55213.000000  ...     55113.000000  55281.000000  55299.000000   \n",
       "mean          0.813874  ...        30.296565     71.962430      1.170445   \n",
       "std           1.398240  ...         2.885504     13.575538      0.719358   \n",
       "min           0.000000  ...         7.300000     15.250000      0.080000   \n",
       "25%           0.330000  ...        28.770000     62.500000      0.600000   \n",
       "50%           0.600000  ...        29.880000     73.750000      1.050000   \n",
       "75%           1.100000  ...        31.350000     84.000000      1.600000   \n",
       "max         118.520000  ...        59.900000     92.330000     34.850000   \n",
       "\n",
       "           WD (deg)    SR (W/mt2)    BP (mmHg)     VWS (m/s)  Xylene (ug/m3)  \\\n",
       "count  54656.000000  54589.000000  1201.000000  55341.000000    55200.000000   \n",
       "mean     180.160190     72.830661   755.713988     -0.015668        0.316406   \n",
       "std       74.972401    131.376023    14.906888      0.165063        1.594764   \n",
       "min        1.000000      0.000000   725.000000    -17.600000        0.000000   \n",
       "25%      123.750000      3.000000   751.500000     -0.100000        0.030000   \n",
       "50%      183.500000      8.000000   755.250000     -0.030000        0.100000   \n",
       "75%      235.250000     71.000000   758.000000      0.030000        0.250000   \n",
       "max      360.000000    956.000000  1050.000000      1.700000      127.850000   \n",
       "\n",
       "            RF (mm)  AT (degree C)  \n",
       "count  55285.000000   55087.000000  \n",
       "mean       0.052524      22.279584  \n",
       "std        0.441987       3.006088  \n",
       "min        0.000000       4.680000  \n",
       "25%        0.000000      20.200000  \n",
       "50%        0.000000      22.050000  \n",
       "75%        0.000000      24.250000  \n",
       "max       30.000000      35.350000  \n",
       "\n",
       "[8 rows x 21 columns]"
      ]
     },
     "execution_count": 7,
     "metadata": {},
     "output_type": "execute_result"
    }
   ],
   "source": [
    "df.describe()"
   ]
  },
  {
   "cell_type": "code",
   "execution_count": 8,
   "id": "95018d75-dbb0-4b66-acdb-1184b5a4bd0a",
   "metadata": {},
   "outputs": [
    {
     "data": {
      "text/html": [
       "<div>\n",
       "<style scoped>\n",
       "    .dataframe tbody tr th:only-of-type {\n",
       "        vertical-align: middle;\n",
       "    }\n",
       "\n",
       "    .dataframe tbody tr th {\n",
       "        vertical-align: top;\n",
       "    }\n",
       "\n",
       "    .dataframe thead th {\n",
       "        text-align: right;\n",
       "    }\n",
       "</style>\n",
       "<table border=\"1\" class=\"dataframe\">\n",
       "  <thead>\n",
       "    <tr style=\"text-align: right;\">\n",
       "      <th></th>\n",
       "      <th>From Date</th>\n",
       "      <th>To Date</th>\n",
       "      <th>PM2.5 (ug/m3)</th>\n",
       "      <th>PM10 (ug/m3)</th>\n",
       "      <th>NO (ug/m3)</th>\n",
       "      <th>NO2 (ug/m3)</th>\n",
       "      <th>NOx (ppb)</th>\n",
       "      <th>NH3 (ug/m3)</th>\n",
       "      <th>SO2 (ug/m3)</th>\n",
       "      <th>CO (mg/m3)</th>\n",
       "      <th>...</th>\n",
       "      <th>Temp (degree C)</th>\n",
       "      <th>RH (%)</th>\n",
       "      <th>WS (m/s)</th>\n",
       "      <th>WD (deg)</th>\n",
       "      <th>SR (W/mt2)</th>\n",
       "      <th>BP (mmHg)</th>\n",
       "      <th>VWS (m/s)</th>\n",
       "      <th>Xylene (ug/m3)</th>\n",
       "      <th>RF (mm)</th>\n",
       "      <th>AT (degree C)</th>\n",
       "    </tr>\n",
       "  </thead>\n",
       "  <tbody>\n",
       "    <tr>\n",
       "      <th>0</th>\n",
       "      <td>2016-07-01 10:00:00</td>\n",
       "      <td>2016-07-01 11:00:00</td>\n",
       "      <td>10.67</td>\n",
       "      <td>39.0</td>\n",
       "      <td>17.67</td>\n",
       "      <td>39.2</td>\n",
       "      <td>32.33</td>\n",
       "      <td>7.07</td>\n",
       "      <td>6.60</td>\n",
       "      <td>0.48</td>\n",
       "      <td>...</td>\n",
       "      <td>33.43</td>\n",
       "      <td>71.67</td>\n",
       "      <td>2.30</td>\n",
       "      <td>226.33</td>\n",
       "      <td>123.67</td>\n",
       "      <td>NaN</td>\n",
       "      <td>-0.1</td>\n",
       "      <td>0.1</td>\n",
       "      <td>0.0</td>\n",
       "      <td>23.05</td>\n",
       "    </tr>\n",
       "    <tr>\n",
       "      <th>1</th>\n",
       "      <td>2016-07-01 11:00:00</td>\n",
       "      <td>2016-07-01 12:00:00</td>\n",
       "      <td>2.00</td>\n",
       "      <td>39.0</td>\n",
       "      <td>20.50</td>\n",
       "      <td>41.9</td>\n",
       "      <td>35.80</td>\n",
       "      <td>7.40</td>\n",
       "      <td>NaN</td>\n",
       "      <td>0.49</td>\n",
       "      <td>...</td>\n",
       "      <td>33.70</td>\n",
       "      <td>70.00</td>\n",
       "      <td>2.50</td>\n",
       "      <td>223.00</td>\n",
       "      <td>186.00</td>\n",
       "      <td>NaN</td>\n",
       "      <td>-0.1</td>\n",
       "      <td>0.1</td>\n",
       "      <td>0.0</td>\n",
       "      <td>NaN</td>\n",
       "    </tr>\n",
       "    <tr>\n",
       "      <th>2</th>\n",
       "      <td>2016-07-01 12:00:00</td>\n",
       "      <td>2016-07-01 13:00:00</td>\n",
       "      <td>NaN</td>\n",
       "      <td>NaN</td>\n",
       "      <td>NaN</td>\n",
       "      <td>NaN</td>\n",
       "      <td>NaN</td>\n",
       "      <td>NaN</td>\n",
       "      <td>NaN</td>\n",
       "      <td>NaN</td>\n",
       "      <td>...</td>\n",
       "      <td>NaN</td>\n",
       "      <td>NaN</td>\n",
       "      <td>NaN</td>\n",
       "      <td>NaN</td>\n",
       "      <td>NaN</td>\n",
       "      <td>NaN</td>\n",
       "      <td>NaN</td>\n",
       "      <td>NaN</td>\n",
       "      <td>NaN</td>\n",
       "      <td>NaN</td>\n",
       "    </tr>\n",
       "    <tr>\n",
       "      <th>3</th>\n",
       "      <td>2016-07-01 13:00:00</td>\n",
       "      <td>2016-07-01 14:00:00</td>\n",
       "      <td>NaN</td>\n",
       "      <td>NaN</td>\n",
       "      <td>NaN</td>\n",
       "      <td>NaN</td>\n",
       "      <td>NaN</td>\n",
       "      <td>NaN</td>\n",
       "      <td>NaN</td>\n",
       "      <td>NaN</td>\n",
       "      <td>...</td>\n",
       "      <td>NaN</td>\n",
       "      <td>NaN</td>\n",
       "      <td>NaN</td>\n",
       "      <td>NaN</td>\n",
       "      <td>NaN</td>\n",
       "      <td>NaN</td>\n",
       "      <td>NaN</td>\n",
       "      <td>NaN</td>\n",
       "      <td>NaN</td>\n",
       "      <td>NaN</td>\n",
       "    </tr>\n",
       "    <tr>\n",
       "      <th>4</th>\n",
       "      <td>2016-07-01 14:00:00</td>\n",
       "      <td>2016-07-01 15:00:00</td>\n",
       "      <td>20.50</td>\n",
       "      <td>50.0</td>\n",
       "      <td>15.40</td>\n",
       "      <td>43.6</td>\n",
       "      <td>32.78</td>\n",
       "      <td>6.35</td>\n",
       "      <td>6.38</td>\n",
       "      <td>0.47</td>\n",
       "      <td>...</td>\n",
       "      <td>33.57</td>\n",
       "      <td>63.50</td>\n",
       "      <td>1.88</td>\n",
       "      <td>223.00</td>\n",
       "      <td>240.50</td>\n",
       "      <td>NaN</td>\n",
       "      <td>-0.1</td>\n",
       "      <td>0.1</td>\n",
       "      <td>0.0</td>\n",
       "      <td>NaN</td>\n",
       "    </tr>\n",
       "  </tbody>\n",
       "</table>\n",
       "<p>5 rows × 23 columns</p>\n",
       "</div>"
      ],
      "text/plain": [
       "             From Date              To Date  PM2.5 (ug/m3)  PM10 (ug/m3)  \\\n",
       "0  2016-07-01 10:00:00  2016-07-01 11:00:00          10.67          39.0   \n",
       "1  2016-07-01 11:00:00  2016-07-01 12:00:00           2.00          39.0   \n",
       "2  2016-07-01 12:00:00  2016-07-01 13:00:00            NaN           NaN   \n",
       "3  2016-07-01 13:00:00  2016-07-01 14:00:00            NaN           NaN   \n",
       "4  2016-07-01 14:00:00  2016-07-01 15:00:00          20.50          50.0   \n",
       "\n",
       "   NO (ug/m3)  NO2 (ug/m3)  NOx (ppb)  NH3 (ug/m3)  SO2 (ug/m3)  CO (mg/m3)  \\\n",
       "0       17.67         39.2      32.33         7.07         6.60        0.48   \n",
       "1       20.50         41.9      35.80         7.40          NaN        0.49   \n",
       "2         NaN          NaN        NaN          NaN          NaN         NaN   \n",
       "3         NaN          NaN        NaN          NaN          NaN         NaN   \n",
       "4       15.40         43.6      32.78         6.35         6.38        0.47   \n",
       "\n",
       "   ...  Temp (degree C)  RH (%)  WS (m/s)  WD (deg)  SR (W/mt2)  BP (mmHg)  \\\n",
       "0  ...            33.43   71.67      2.30    226.33      123.67        NaN   \n",
       "1  ...            33.70   70.00      2.50    223.00      186.00        NaN   \n",
       "2  ...              NaN     NaN       NaN       NaN         NaN        NaN   \n",
       "3  ...              NaN     NaN       NaN       NaN         NaN        NaN   \n",
       "4  ...            33.57   63.50      1.88    223.00      240.50        NaN   \n",
       "\n",
       "   VWS (m/s)  Xylene (ug/m3)  RF (mm)  AT (degree C)  \n",
       "0       -0.1             0.1      0.0          23.05  \n",
       "1       -0.1             0.1      0.0            NaN  \n",
       "2        NaN             NaN      NaN            NaN  \n",
       "3        NaN             NaN      NaN            NaN  \n",
       "4       -0.1             0.1      0.0            NaN  \n",
       "\n",
       "[5 rows x 23 columns]"
      ]
     },
     "execution_count": 8,
     "metadata": {},
     "output_type": "execute_result"
    }
   ],
   "source": [
    "df.head()"
   ]
  },
  {
   "cell_type": "code",
   "execution_count": 9,
   "id": "50b9b5c4-4a1c-42d0-86d2-ff319f565586",
   "metadata": {},
   "outputs": [],
   "source": [
    "feature = 'PM2.5 (ug/m3)'\n",
    "#feature = 'PM10 (ug/m3)'\n",
    "\n",
    "X = df.assign(date=pd.to_datetime(df['To Date']))[['date', feature]].set_index('date')"
   ]
  },
  {
   "cell_type": "code",
   "execution_count": 10,
   "id": "f533ce34-ee18-4dad-84fb-44c5016008a8",
   "metadata": {},
   "outputs": [],
   "source": [
    "X.rename(columns={feature: 'Value'}, inplace=True)"
   ]
  },
  {
   "cell_type": "code",
   "execution_count": 11,
   "id": "21bc66c4-b2cb-43f3-965f-4498340dc583",
   "metadata": {},
   "outputs": [
    {
     "name": "stdout",
     "output_type": "stream",
     "text": [
      "<class 'pandas.core.frame.DataFrame'>\n",
      "DatetimeIndex: 59150 entries, 2016-07-01 11:00:00 to 2023-04-01 00:00:00\n",
      "Data columns (total 1 columns):\n",
      " #   Column  Non-Null Count  Dtype  \n",
      "---  ------  --------------  -----  \n",
      " 0   Value   54323 non-null  float64\n",
      "dtypes: float64(1)\n",
      "memory usage: 924.2 KB\n"
     ]
    }
   ],
   "source": [
    "X.info()"
   ]
  },
  {
   "cell_type": "code",
   "execution_count": 12,
   "id": "6260d0b0-f1a9-4370-8a52-55969ced8632",
   "metadata": {},
   "outputs": [
    {
     "data": {
      "text/plain": [
       "pandas.core.indexes.datetimes.DatetimeIndex"
      ]
     },
     "execution_count": 12,
     "metadata": {},
     "output_type": "execute_result"
    }
   ],
   "source": [
    "type(X.index) # Check that  datetime conversion and index creation is legit"
   ]
  },
  {
   "cell_type": "markdown",
   "id": "9070e5b1-8c3f-4576-9d4d-74fb50d310ce",
   "metadata": {},
   "source": [
    "### Recommendation:\r\n",
    "For hourly environmental data, **interpolation** is often the most suitable method, as it takes into account the temporal nature of the data and provides a more accurate estimate of missing values."
   ]
  },
  {
   "cell_type": "code",
   "execution_count": 14,
   "id": "3777f65d-22cd-40a5-8db9-6024a15beb0d",
   "metadata": {},
   "outputs": [
    {
     "data": {
      "text/plain": [
       "Value    4827\n",
       "dtype: int64"
      ]
     },
     "execution_count": 14,
     "metadata": {},
     "output_type": "execute_result"
    }
   ],
   "source": [
    "X.isnull().sum()"
   ]
  },
  {
   "cell_type": "code",
   "execution_count": 15,
   "id": "e42bc132-0196-4d5a-9b4c-8f1eea841d4c",
   "metadata": {},
   "outputs": [],
   "source": [
    "X.interpolate(method='time', inplace=True)"
   ]
  },
  {
   "cell_type": "markdown",
   "id": "8b24c374-b803-46bf-80b7-5a2ea23485d6",
   "metadata": {},
   "source": [
    "If the missing data is not extensive, **forward fill** or **backward fill** can also be effective. Always visualize the data before and after imputation to ensure that the method chosen does not introduce bias or distort the data trends."
   ]
  },
  {
   "cell_type": "code",
   "execution_count": 17,
   "id": "cbd71edf-e6a4-4ebc-b044-0c8e0a8c2099",
   "metadata": {},
   "outputs": [],
   "source": [
    "# Resample the data to daily frequency and sum the values\n",
    "daily_totals = X.resample('D').sum()\n",
    "monthly_totals = X.resample('M').sum()"
   ]
  },
  {
   "cell_type": "code",
   "execution_count": 18,
   "id": "bd33088b-f018-4e4b-bc25-51c8fe662b6f",
   "metadata": {},
   "outputs": [
    {
     "data": {
      "image/png": "[encoded data removed]",
      "text/plain": [
       "<Figure size 1400x400 with 1 Axes>"
      ]
     },
     "metadata": {},
     "output_type": "display_data"
    }
   ],
   "source": [
    "plt.figure(figsize=(14,4))\n",
    "plt.plot(X)\n",
    "plt.title('AQ PM2.5 Hourly Data', loc = 'center')\n",
    "plt.grid();"
   ]
  },
  {
   "cell_type": "code",
   "execution_count": 19,
   "id": "c327f02e-b07c-4777-a176-6640a50133cd",
   "metadata": {},
   "outputs": [
    {
     "data": {
      "image/png": "[encoded data removed]",
      "text/plain": [
       "<Figure size 640x480 with 4 Axes>"
      ]
     },
     "metadata": {},
     "output_type": "display_data"
    }
   ],
   "source": [
    "# Step 1: Split the dataset\n",
    "train_size = int(len(monthly_totals) * 0.8)\n",
    "train, test = monthly_totals[:train_size], monthly_totals[train_size:]\n",
    "\n",
    "# Step 2: Decompose the time series\n",
    "decomposition = seasonal_decompose(train['Value'], model='additive', period = 12)\n",
    "decomposition.plot()\n",
    "plt.savefig('images/AQ_decomposition.png')\n",
    "plt.show()"
   ]
  },
  {
   "cell_type": "code",
   "execution_count": 20,
   "id": "41feba11-e580-4e37-83b7-7e55e11d8293",
   "metadata": {},
   "outputs": [
    {
     "data": {
      "image/png": "[encoded data removed]",
      "text/plain": [
       "<Figure size 1600x500 with 2 Axes>"
      ]
     },
     "metadata": {},
     "output_type": "display_data"
    }
   ],
   "source": [
    "fig, ax = plt.subplots(1, 2, figsize = (16, 5))\n",
    "plot_acf(train['Value'], ax = ax[0]);\n",
    "ax[0].grid()\n",
    "plot_pacf(train['Value'], ax = ax[1], method = 'ywm');\n",
    "ax[1].grid()\n",
    "plt.savefig('images/AQ_ACF_and_PACF_plots.png')"
   ]
  },
  {
   "cell_type": "markdown",
   "id": "a13db706-f9a8-4c46-a56f-c5bb943a60b8",
   "metadata": {},
   "source": [
    "## ACF & PACF results\n",
    "\n",
    "$p = 1, q = 2$"
   ]
  },
  {
   "cell_type": "code",
   "execution_count": 22,
   "id": "5e570a7a-22a6-477e-8824-a87fbfd6edc9",
   "metadata": {},
   "outputs": [
    {
     "name": "stdout",
     "output_type": "stream",
     "text": [
      "MAE: 6792.351278191115, RMSE: 9462.901640425083\n"
     ]
    }
   ],
   "source": [
    "# Step 3: Build the SARIMAX model\n",
    "\n",
    "p = 1\n",
    "q = 2\n",
    "model = SARIMAX(train['Value'], order=(p, 0, q), seasonal_order=(1, 1, 1, 12)) # 12 for monthly seasons\n",
    "results = model.fit()\n",
    "\n",
    "# Step 4: Forecast the test set\n",
    "forecast = results.get_forecast(steps=len(test))\n",
    "predicted_mean = forecast.predicted_mean\n",
    "predicted_ci = forecast.conf_int()\n",
    "\n",
    "# Step 5: Assess accuracy\n",
    "mae = mean_absolute_error(test['Value'], predicted_mean)\n",
    "rmse = np.sqrt(mean_squared_error(test['Value'], predicted_mean))\n",
    "\n",
    "print(f'MAE: {mae}, RMSE: {rmse}')"
   ]
  },
  {
   "cell_type": "code",
   "execution_count": 23,
   "id": "7c1ad64d-d0bf-4106-927e-472f3f1ea1cd",
   "metadata": {},
   "outputs": [
    {
     "data": {
      "image/png": "[encoded data removed]",
      "text/plain": [
       "<Figure size 1200x600 with 1 Axes>"
      ]
     },
     "metadata": {},
     "output_type": "display_data"
    }
   ],
   "source": [
    "# Step 6: Plot the predictions\n",
    "plt.figure(figsize=(12, 6))\n",
    "plt.plot(train['Value'], label='Training Data', color='blue')\n",
    "plt.plot(test['Value'], label='Test Data', color='orange')\n",
    "plt.plot(predicted_mean, label='Predicted Values', color='green')\n",
    "plt.fill_between(predicted_ci.index, predicted_ci.iloc[:, 0], predicted_ci.iloc[:, 1], color='gray', alpha=0.2)\n",
    "plt.title('AQ PM_2.5 Forecasting')\n",
    "plt.xlabel('Date')\n",
    "plt.ylabel('Value')\n",
    "plt.legend()\n",
    "plt.tight_layout()\n",
    "plt.savefig('images/AQ_prediction.png')\n",
    "plt.show()"
   ]
  },
  {
   "cell_type": "markdown",
   "id": "3f94730f-5097-47f5-b07f-9e6f3b28ca7d",
   "metadata": {},
   "source": [
    "## Complete Analysis for final submission DONE"
   ]
  },
  {
   "cell_type": "code",
   "execution_count": null,
   "id": "7ba31de8-ebe6-4c19-8bcb-f65d01d94272",
   "metadata": {},
   "outputs": [],
   "source": []
  },
  {
   "cell_type": "code",
   "execution_count": null,
   "id": "fde2b598-95b9-4269-b23e-28330ae92e58",
   "metadata": {},
   "outputs": [],
   "source": []
  },
  {
   "cell_type": "code",
   "execution_count": null,
   "id": "deec3ec3-7c8c-4723-8e2b-8acee820dd15",
   "metadata": {},
   "outputs": [],
   "source": []
  },
  {
   "cell_type": "code",
   "execution_count": null,
   "id": "ffef69d8-1d74-49a0-a0ec-3c94227c5854",
   "metadata": {},
   "outputs": [],
   "source": []
  },
  {
   "cell_type": "code",
   "execution_count": null,
   "id": "eccfc55e-9336-4928-a65e-a69c771f21d3",
   "metadata": {},
   "outputs": [],
   "source": []
  },
  {
   "cell_type": "code",
   "execution_count": null,
   "id": "be8bd1bb-8e8c-47e0-9de2-cea3a7cb4107",
   "metadata": {},
   "outputs": [],
   "source": []
  },
  {
   "cell_type": "code",
   "execution_count": null,
   "id": "983f7636-1d08-4882-b3d0-404e829da1e8",
   "metadata": {},
   "outputs": [],
   "source": []
  },
  {
   "cell_type": "markdown",
   "id": "34a1ca3d-3635-4f71-912b-74362cbb3c08",
   "metadata": {},
   "source": [
    "# Other models explored for analysis"
   ]
  },
  {
   "cell_type": "code",
   "execution_count": null,
   "id": "5fba0368-3968-4f12-b92b-65690c0a5696",
   "metadata": {},
   "outputs": [],
   "source": []
  },
  {
   "cell_type": "code",
   "execution_count": null,
   "id": "c3b3af87-9b67-445d-acda-f9348276fdf3",
   "metadata": {},
   "outputs": [],
   "source": [
    "plt.figure(figsize=(14,4))\n",
    "#plt.plot(daily_totals)\n",
    "plt.plot(monthly_totals)\n",
    "plt.title('AQ PM2_5 Monthly Data', loc = 'center')\n",
    "plt.grid();"
   ]
  },
  {
   "cell_type": "code",
   "execution_count": null,
   "id": "882cca1a-208e-412e-a02e-9eb1f118370a",
   "metadata": {},
   "outputs": [],
   "source": []
  },
  {
   "cell_type": "code",
   "execution_count": null,
   "id": "0927f77b-bc1d-4ba9-82af-cca2afc7cf47",
   "metadata": {},
   "outputs": [],
   "source": [
    "#aq_decomposition = sm.tsa.seasonal_decompose(monthly_totals['Value'], model='additive', period = 12)\n",
    "\n",
    "# Plot the decomposed components\n",
    "aq_decomposition.plot()\n",
    "plt.show()"
   ]
  },
  {
   "cell_type": "code",
   "execution_count": null,
   "id": "b4b1516f-aa2d-4ec2-a856-2060ec80cea0",
   "metadata": {},
   "outputs": [],
   "source": []
  },
  {
   "cell_type": "code",
   "execution_count": null,
   "id": "78dad355-4134-423e-a4a2-666662464ad7",
   "metadata": {},
   "outputs": [],
   "source": [
    "plt.plot(aq_decomposition.resid)"
   ]
  },
  {
   "cell_type": "code",
   "execution_count": null,
   "id": "42187241-71d0-49ca-926f-23e9e1d6b5d2",
   "metadata": {},
   "outputs": [],
   "source": [
    "plt.figure(figsize=(12, 6))\n",
    "plot_acf(aq_decomposition.resid.dropna(), lags=10)  # You can adjust the number of lags as needed\n",
    "plt.title('Autocorrelation Function (ACF) of Residuals')\n",
    "plt.xlabel('Lags')\n",
    "plt.ylabel('ACF')\n",
    "plt.show()"
   ]
  },
  {
   "cell_type": "code",
   "execution_count": null,
   "id": "d1ee7b8c-4b3f-4a05-8a85-c7b6c5e44911",
   "metadata": {},
   "outputs": [],
   "source": []
  },
  {
   "cell_type": "code",
   "execution_count": null,
   "id": "79accbe9-dff5-4bb6-b032-0c7be1b02833",
   "metadata": {},
   "outputs": [],
   "source": []
  },
  {
   "cell_type": "code",
   "execution_count": null,
   "id": "da7e4cce-9763-4bdb-849b-a7a42fde0723",
   "metadata": {},
   "outputs": [],
   "source": [
    "y_hist = daily_totals.loc[:'2022-06']\n",
    "y_future = daily_totals.loc['2022-06':]"
   ]
  },
  {
   "cell_type": "code",
   "execution_count": null,
   "id": "4c631447-a3cf-4407-bb38-56f9ced07d0b",
   "metadata": {},
   "outputs": [],
   "source": [
    "y_hist = monthly_totals.loc[:'2022-06']\n",
    "y_future = monthly_totals.loc['2022-06':]"
   ]
  },
  {
   "cell_type": "code",
   "execution_count": null,
   "id": "b400dd12-9fa7-42bd-8062-365ae5d7e9ef",
   "metadata": {},
   "outputs": [],
   "source": [
    "plt.plot(y_hist, label = 'historical')\n",
    "plt.plot(y_future, label = 'future')\n",
    "plt.legend();"
   ]
  },
  {
   "cell_type": "code",
   "execution_count": null,
   "id": "dd52606a-57d1-4206-8477-a86d281be725",
   "metadata": {},
   "outputs": [],
   "source": [
    "stl = STL(y_hist['Value'], period = 12)\n",
    "results = stl.fit()"
   ]
  },
  {
   "cell_type": "code",
   "execution_count": null,
   "id": "69ac296f-4693-427a-baf5-12bbd3439b35",
   "metadata": {},
   "outputs": [],
   "source": []
  },
  {
   "cell_type": "code",
   "execution_count": null,
   "id": "5707bf61-8fe9-40f9-a9b1-2c977c7b20e4",
   "metadata": {},
   "outputs": [],
   "source": [
    "results.resid"
   ]
  },
  {
   "cell_type": "code",
   "execution_count": null,
   "id": "4c4f8050-2541-4b44-9784-afdabf125442",
   "metadata": {},
   "outputs": [],
   "source": [
    "plt.plot(results.trend)\n",
    "plt.plot(y_hist)\n",
    "plt.title('Trend with Air Quality PM2.5 Data')"
   ]
  },
  {
   "cell_type": "code",
   "execution_count": null,
   "id": "18b181a1-af62-4c16-ac4a-c7a2e603f982",
   "metadata": {},
   "outputs": [],
   "source": [
    "season_and_trend = results.seasonal + results.trend"
   ]
  },
  {
   "cell_type": "code",
   "execution_count": null,
   "id": "4800a21c-80c3-415b-a5ba-00acf85fbad4",
   "metadata": {},
   "outputs": [],
   "source": [
    "plt.plot(season_and_trend['2020':], label = 'seasonal + trend')\n",
    "plt.plot(y_hist['2020':], label = 'actual')\n",
    "plt.grid()\n",
    "plt.legend()\n",
    "plt.xticks(rotation = 90);"
   ]
  },
  {
   "cell_type": "markdown",
   "id": "ec28704a-b5d3-423d-860e-dc83fa61f8d0",
   "metadata": {},
   "source": [
    "Exploring the residuals"
   ]
  },
  {
   "cell_type": "code",
   "execution_count": null,
   "id": "732b87e1-ed17-4b94-a4ec-fdc475433c01",
   "metadata": {},
   "outputs": [],
   "source": [
    "results."
   ]
  },
  {
   "cell_type": "code",
   "execution_count": null,
   "id": "118b209b-178f-4b6d-b1e4-ffeee7cd3df2",
   "metadata": {},
   "outputs": [],
   "source": [
    "plt.plot(results.resid)\n",
    "plt.grid()"
   ]
  },
  {
   "cell_type": "code",
   "execution_count": null,
   "id": "6a6e3778-af2e-4415-92b1-4893040b9987",
   "metadata": {},
   "outputs": [],
   "source": [
    "plt.figure(figsize=(12, 6))\n",
    "plot_acf(results.resid, lags=10)  # You can adjust the number of lags as needed\n",
    "plt.title('Autocorrelation Function (ACF) of Residuals')\n",
    "plt.xlabel('Lags')\n",
    "plt.ylabel('ACF')\n",
    "plt.show()"
   ]
  },
  {
   "cell_type": "code",
   "execution_count": null,
   "id": "f7ffd64d-ada8-4749-8381-757878595b15",
   "metadata": {},
   "outputs": [],
   "source": [
    "fig, ax = plt.subplots(1, 2, figsize = (14, 4))\n",
    "plot_acf(results.resid, ax = ax[0]);\n",
    "ax[0].grid()\n",
    "plot_pacf(results.resid, ax = ax[1])\n",
    "ax[1].grid();"
   ]
  },
  {
   "cell_type": "code",
   "execution_count": null,
   "id": "457e0ede-f75e-4d0d-b3cc-ac2e88c1feb5",
   "metadata": {},
   "outputs": [],
   "source": []
  },
  {
   "cell_type": "code",
   "execution_count": null,
   "id": "d7a8d074-3048-47b8-b23d-83c991e5ce41",
   "metadata": {},
   "outputs": [],
   "source": []
  },
  {
   "cell_type": "code",
   "execution_count": null,
   "id": "b3402c4e-3848-48b8-90e2-0e90c288b3c4",
   "metadata": {},
   "outputs": [],
   "source": []
  },
  {
   "cell_type": "code",
   "execution_count": null,
   "id": "6291db5d-9241-4b26-babd-4f0bde3f58e9",
   "metadata": {},
   "outputs": [],
   "source": []
  },
  {
   "cell_type": "code",
   "execution_count": null,
   "id": "9f1e1c30-1e9c-4be4-92b4-b3286eeb641d",
   "metadata": {},
   "outputs": [],
   "source": []
  },
  {
   "cell_type": "code",
   "execution_count": null,
   "id": "3703ee9c-00bf-4ac1-876f-56ea2a5472a0",
   "metadata": {},
   "outputs": [],
   "source": [
    "results = adfuller(monthly_totals.values)\n",
    "results"
   ]
  },
  {
   "cell_type": "markdown",
   "id": "45e5d75d-c70a-497c-ba2f-e2355eca89aa",
   "metadata": {},
   "source": [
    "Check if $p-value < 0.05$ ? (i.e 5%)"
   ]
  },
  {
   "cell_type": "code",
   "execution_count": null,
   "id": "12cc243c-281a-4b74-b28f-8f5aa1d34538",
   "metadata": {},
   "outputs": [],
   "source": [
    "results[1] < 0.05"
   ]
  },
  {
   "cell_type": "code",
   "execution_count": null,
   "id": "074b765b-f7ec-4e3b-8a81-3465860fb6d0",
   "metadata": {},
   "outputs": [],
   "source": [
    "y_historical, y_future = daily_totals.iloc[:int(len(daily_totals) * 0.9)], daily_totals.iloc[int(len(daily_totals) * 0.9):]"
   ]
  },
  {
   "cell_type": "code",
   "execution_count": null,
   "id": "1e36cad2-e30f-415d-bece-7fc7a3019dc0",
   "metadata": {},
   "outputs": [],
   "source": [
    "y_historical = y_hist"
   ]
  },
  {
   "cell_type": "code",
   "execution_count": null,
   "id": "caa97d47-fa6d-482f-a175-fd9c8d02824f",
   "metadata": {},
   "outputs": [],
   "source": [
    "fig, ax = plt.subplots(1, 2, figsize = (16, 5))\n",
    "plot_acf(y_historical, ax = ax[0]);\n",
    "ax[0].grid()\n",
    "plot_pacf(y_historical, ax = ax[1], method = 'ywm');\n",
    "ax[1].grid()"
   ]
  },
  {
   "cell_type": "markdown",
   "id": "5009747b-e25f-4a00-993a-2d3f7ca4c28d",
   "metadata": {},
   "source": [
    "## ARMA"
   ]
  },
  {
   "cell_type": "code",
   "execution_count": null,
   "id": "472bdf13-b89b-4593-b6fc-91dc01fc0fdd",
   "metadata": {},
   "outputs": [],
   "source": [
    "p, q = 2, 1\n",
    "arma = ARIMA(y_historical, order=(p, 0, q)).fit()"
   ]
  },
  {
   "cell_type": "code",
   "execution_count": null,
   "id": "dd59f768-2dab-4df9-a9ea-0f9a257c78a8",
   "metadata": {},
   "outputs": [],
   "source": [
    "hist_preds = arma.predict()"
   ]
  },
  {
   "cell_type": "code",
   "execution_count": null,
   "id": "5d955d43-ae61-43ff-9a19-abffa8ce8ee3",
   "metadata": {},
   "outputs": [],
   "source": [
    "plt.figure(figsize = (12, 4))\n",
    "plt.plot(hist_preds, label = 'model')\n",
    "plt.plot(y_historical, label = 'data')\n",
    "plt.legend()\n",
    "plt.grid()\n",
    "plt.title('Result of ARMA Model');"
   ]
  },
  {
   "cell_type": "code",
   "execution_count": null,
   "id": "2c59a402-fd2f-4da2-97f7-5009f8abb7b8",
   "metadata": {},
   "outputs": [],
   "source": [
    "future_preds = arma.forecast(steps = len(y_future))\n",
    "\n",
    "# Answer check\n",
    "print(future_preds.tail())\n",
    "print(y_future.tail())"
   ]
  },
  {
   "cell_type": "code",
   "execution_count": null,
   "id": "f48fa4c6-3098-4c82-94e2-c7476bf27854",
   "metadata": {},
   "outputs": [],
   "source": [
    "resids =monthly_totals - future_preds"
   ]
  },
  {
   "cell_type": "code",
   "execution_count": null,
   "id": "968ef191-5c1b-43e7-b016-4141d556faaa",
   "metadata": {},
   "outputs": [],
   "source": [
    "plt.figure(figsize = (12, 4))\n",
    "plt.plot(y_future, label = 'data')\n",
    "plt.plot(future_preds, label = 'predictions')\n",
    "plt.legend()\n",
    "plt.grid()\n",
    "plt.title('Result of ARMA Model');"
   ]
  },
  {
   "cell_type": "code",
   "execution_count": null,
   "id": "be937dba-be29-46b7-8942-7c7967cf55c5",
   "metadata": {},
   "outputs": [],
   "source": []
  },
  {
   "cell_type": "code",
   "execution_count": null,
   "id": "5ed6c5f0-2dc3-4859-9754-6deef81ca96c",
   "metadata": {},
   "outputs": [],
   "source": []
  },
  {
   "cell_type": "markdown",
   "id": "8973187e-fa93-4a19-9c88-c4ca82a43019",
   "metadata": {},
   "source": [
    "# SARIMAX"
   ]
  },
  {
   "cell_type": "code",
   "execution_count": null,
   "id": "1510bd68-db37-4791-a852-cfa79653a744",
   "metadata": {},
   "outputs": [],
   "source": [
    "X_train, X_test = monthly_totals.iloc[:int(len(monthly_totals) * 0.9)], monthly_totals.iloc[int(len(monthly_totals) * 0.9):]"
   ]
  },
  {
   "cell_type": "code",
   "execution_count": null,
   "id": "e307c400-7b87-4610-8cc6-ff6e0e17b91e",
   "metadata": {},
   "outputs": [],
   "source": [
    "X_train.tail()"
   ]
  },
  {
   "cell_type": "code",
   "execution_count": null,
   "id": "7efde9db-ab22-44df-9abb-c7a6084f2d9e",
   "metadata": {},
   "outputs": [],
   "source": [
    "X_test.head()"
   ]
  },
  {
   "cell_type": "code",
   "execution_count": null,
   "id": "5a974263-9803-4e9b-8750-807b33599886",
   "metadata": {},
   "outputs": [],
   "source": [
    "plt.plot(X_train, label = 'historical')\n",
    "plt.plot(X_test, label = 'future')\n",
    "plt.legend();"
   ]
  },
  {
   "cell_type": "code",
   "execution_count": null,
   "id": "984a45b3-0d4c-49c5-8a63-6c189d5d9e61",
   "metadata": {},
   "outputs": [],
   "source": [
    "result = adfuller(X_train)"
   ]
  },
  {
   "cell_type": "code",
   "execution_count": null,
   "id": "c3c843f6-8c3b-44c3-b85b-1c5d9139d3e4",
   "metadata": {},
   "outputs": [],
   "source": [
    "pval = result[1]\n",
    "\n",
    "# Answer check\n",
    "print(f'The p-value is {pval: .4f}')"
   ]
  },
  {
   "cell_type": "code",
   "execution_count": null,
   "id": "0d6cde46-dd73-47a4-a3d6-6b0e1daa17ce",
   "metadata": {},
   "outputs": [],
   "source": [
    "fig, ax = plt.subplots(1, 2, figsize = (16, 5))\n",
    "plot_acf(X_train, ax = ax[0]);\n",
    "ax[0].grid()\n",
    "plot_pacf(X_train, ax = ax[1], method = 'ywm');\n",
    "ax[1].grid()"
   ]
  },
  {
   "cell_type": "code",
   "execution_count": null,
   "id": "aacf9e71-3663-4c59-b298-a8e983b70244",
   "metadata": {},
   "outputs": [],
   "source": [
    "from statsmodels.tsa.statespace.sarimax import SARIMAX\n",
    "sarima = SARIMAX(\n",
    "    X_train, \n",
    "    order=(1,0,2), \n",
    "    seasonal_order=(1,0,2,12),\n",
    ").fit()"
   ]
  },
  {
   "cell_type": "code",
   "execution_count": null,
   "id": "4f3361a3-3924-4305-a393-e86f6dc9da7e",
   "metadata": {},
   "outputs": [],
   "source": [
    "sarima.summary()"
   ]
  },
  {
   "cell_type": "code",
   "execution_count": null,
   "id": "c15d3403-3e4d-458d-b70f-ae76a2804fa9",
   "metadata": {},
   "outputs": [],
   "source": [
    "plt.plot(X_train.index, sarima.predict())\n",
    "plt.plot(X_train.index, X_train, alpha = 0.5)\n",
    "plt.xticks(rotation = 60)\n",
    "plt.title('The SARIMA Model')\n",
    "plt.grid();"
   ]
  },
  {
   "cell_type": "code",
   "execution_count": null,
   "id": "e9b1be19-e4e0-44ac-b3a9-606a20bc3b9a",
   "metadata": {},
   "outputs": [],
   "source": [
    "import matplotlib.pyplot as plt\n",
    "\n",
    "plt.figure(figsize=(16,5))\n",
    "\n",
    "# Plot the SARIMA predictions with a solid line and a distinct color\n",
    "plt.plot(X_train.index, sarima.predict(), color='blue', label='SARIMA Predictions', linewidth=2)\n",
    "\n",
    "# Plot the actual training data with a dashed line and a lighter color\n",
    "plt.plot(X_train.index, X_train, color='orange', label='Actual Data', linestyle='--', alpha=0.5)\n",
    "\n",
    "# Rotate x-axis tick labels for better readability\n",
    "plt.xticks(rotation=60)\n",
    "\n",
    "# Set the title of the plot\n",
    "plt.title('The SARIMA Model')\n",
    "\n",
    "# Add a grid for better visualization\n",
    "plt.grid()\n",
    "\n",
    "# Add a legend to distinguish between the series\n",
    "plt.legend()\n",
    "\n",
    "# Save the figure as a PNG file\n",
    "#plt.savefig('images/Try-It_10-2_sarima_model_plot.png', format='png', bbox_inches='tight')\n",
    "\n",
    "# Show the plot\n",
    "plt.show()"
   ]
  },
  {
   "cell_type": "code",
   "execution_count": null,
   "id": "70237ae2-7fae-4ff1-a059-eb36ae92aab1",
   "metadata": {},
   "outputs": [],
   "source": [
    "# Assuming sarima is already fitted to the training data (X_train)\n",
    "# Forecast the next 12 months\n",
    "forecast_periods = len(X_test)\n",
    "forecast = sarima.get_forecast(steps=forecast_periods)\n",
    "forecast_index = pd.date_range(start=X_test.index[0], periods=forecast_periods, freq='M')\n",
    "forecast_values = forecast.predicted_mean"
   ]
  },
  {
   "cell_type": "code",
   "execution_count": null,
   "id": "f6101e78-b83f-4eeb-a733-5a2d00d1658e",
   "metadata": {},
   "outputs": [],
   "source": [
    "forecast_df = pd.DataFrame({\n",
    "    'date': pd.date_range(start='2022-07-29', periods=forecast_periods),\n",
    "    'PC2_5': forecast_values\n",
    "})"
   ]
  },
  {
   "cell_type": "code",
   "execution_count": null,
   "id": "b49e2b8a-d437-4407-98ca-797e900c5fa2",
   "metadata": {},
   "outputs": [],
   "source": [
    "forecast_df.set_index('date', inplace=True)"
   ]
  },
  {
   "cell_type": "code",
   "execution_count": null,
   "id": "14d139b5-3f35-4591-86e6-a841d79c90e0",
   "metadata": {},
   "outputs": [],
   "source": [
    "# Create a DataFrame for the forecasted values\n",
    "#forecast_df = pd.DataFrame(forecast_values, index=forecast_index, columns=['PC2_5'])"
   ]
  },
  {
   "cell_type": "code",
   "execution_count": null,
   "id": "07fa7c80-8c3f-4ae5-bcac-40a86e6096f2",
   "metadata": {},
   "outputs": [],
   "source": [
    "forecast_df.head()"
   ]
  },
  {
   "cell_type": "code",
   "execution_count": null,
   "id": "1252d2f5-608a-4659-bedb-8ff3c52d16e0",
   "metadata": {},
   "outputs": [],
   "source": []
  },
  {
   "cell_type": "code",
   "execution_count": null,
   "id": "52980b88-ccf5-441a-90b6-85de44f78617",
   "metadata": {},
   "outputs": [],
   "source": []
  },
  {
   "cell_type": "code",
   "execution_count": null,
   "id": "132b256f-e4f4-47df-a954-5c8aa889daad",
   "metadata": {},
   "outputs": [],
   "source": []
  },
  {
   "cell_type": "code",
   "execution_count": null,
   "id": "ed945bbe-4116-456d-b0dd-3c1baab362c9",
   "metadata": {},
   "outputs": [],
   "source": [
    "# Plot the actual test data and the forecast\n",
    "plt.figure(figsize=(18, 6))\n",
    "plt.plot(X_test.index, X_test, color='orange', label='Actual Test Data', linestyle='--', alpha=0.5)\n",
    "plt.plot(forecast_df.index, forecast_df['PC2_5'], color='blue', label='SARIMA Forecast', linewidth=2)\n",
    "\n",
    "#plt.plot(forecast_df.index, forecast_values, color='blue', label='SARIMA Forecast', linewidth=2)\n",
    "\n",
    "# Rotate x-axis tick labels for better readability\n",
    "plt.xticks(rotation=60)\n",
    "\n",
    "# Set the title of the plot\n",
    "plt.title('SARIMA Forecast vs Actual Test Data')\n",
    "\n",
    "# Add a grid for better visualization\n",
    "plt.grid()\n",
    "\n",
    "# Add a legend to distinguish between the series\n",
    "plt.legend()\n",
    "\n",
    "# Save the figure as a PNG file\n",
    "#plt.savefig('sarima_forecast_plot.png', format='png', bbox_inches='tight')\n",
    "\n",
    "# Show the plot\n",
    "plt.show()"
   ]
  },
  {
   "cell_type": "code",
   "execution_count": null,
   "id": "b0f3013f-71b9-405a-9dea-012423ba5b70",
   "metadata": {},
   "outputs": [],
   "source": [
    "forecast_values"
   ]
  },
  {
   "cell_type": "code",
   "execution_count": null,
   "id": "ecbf8db2-5936-4230-b0b3-b725fcde87ab",
   "metadata": {},
   "outputs": [],
   "source": [
    "X_test"
   ]
  },
  {
   "cell_type": "code",
   "execution_count": null,
   "id": "5ef52122-763a-42f2-bd6f-7833a8469377",
   "metadata": {},
   "outputs": [],
   "source": [
    "sarima.plot_diagnostics(figsize=(15, 12))"
   ]
  },
  {
   "cell_type": "code",
   "execution_count": null,
   "id": "012230cc-ea99-4e68-9a6f-8053fd2d93f9",
   "metadata": {},
   "outputs": [],
   "source": [
    "print(forecast.summary_frame())  # Check the summary of the forecast   "
   ]
  },
  {
   "cell_type": "code",
   "execution_count": null,
   "id": "26b9c990-eb66-48f3-8121-b16db695dfe2",
   "metadata": {},
   "outputs": [],
   "source": []
  }
 ],
 "metadata": {
  "kernelspec": {
   "display_name": "Python 3 (ipykernel)",
   "language": "python",
   "name": "python3"
  },
  "language_info": {
   "codemirror_mode": {
    "name": "ipython",
    "version": 3
   },
   "file_extension": ".py",
   "mimetype": "text/x-python",
   "name": "python",
   "nbconvert_exporter": "python",
   "pygments_lexer": "ipython3",
   "version": "3.11.7"
  }
 },
 "nbformat": 4,
 "nbformat_minor": 5
}
